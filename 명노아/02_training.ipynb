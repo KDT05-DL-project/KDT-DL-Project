{
 "cells": [
  {
   "cell_type": "code",
   "execution_count": 123,
   "metadata": {},
   "outputs": [],
   "source": [
    "import torch\n",
    "import torch.nn as nn\n",
    "import torch.nn.functional as F\n",
    "import torch.optim as optim\n",
    "import pandas as pd\n",
    "import numpy as np\n",
    "from sklearn.model_selection import train_test_split"
   ]
  },
  {
   "cell_type": "code",
   "execution_count": 124,
   "metadata": {},
   "outputs": [],
   "source": [
    "df=pd.read_csv(\"./mnist.csv\")"
   ]
  },
  {
   "cell_type": "code",
   "execution_count": 125,
   "metadata": {},
   "outputs": [],
   "source": [
    "feature = df[df.columns[:-1]]\n",
    "target = df[df.columns[-1]]"
   ]
  },
  {
   "cell_type": "code",
   "execution_count": 126,
   "metadata": {},
   "outputs": [],
   "source": [
    "x_train, x_test, y_train, y_test = train_test_split(feature, target, test_size=1/7, random_state=42, stratify=target)"
   ]
  },
  {
   "cell_type": "code",
   "execution_count": 127,
   "metadata": {},
   "outputs": [],
   "source": [
    "x_train = torch.tensor(x_train.values, dtype=torch.float32)\n",
    "y_train = torch.tensor(y_train.values, dtype=torch.long)\n",
    "x_test = torch.tensor(x_test.values, dtype=torch.float32)\n",
    "y_test = torch.tensor(y_test.values, dtype=torch.long)"
   ]
  },
  {
   "cell_type": "code",
   "execution_count": 128,
   "metadata": {},
   "outputs": [],
   "source": [
    "# 데이터셋 생성\n",
    "import torch.utils.data.dataloader as dataloader\n",
    "import torch.utils.data.dataset as dataset\n",
    "\n",
    "class MyDataset(dataset.Dataset):\n",
    "    def __init__(self, x, y):\n",
    "        self.x = x\n",
    "        self.y = y\n",
    "    def __len__(self):\n",
    "        return len(self.x)\n",
    "    def __getitem__(self, idx):\n",
    "        return self.x[idx], self.y[idx]"
   ]
  },
  {
   "cell_type": "code",
   "execution_count": 129,
   "metadata": {},
   "outputs": [],
   "source": [
    "dataset_train = MyDataset(x_train, y_train)\n",
    "dataset_test = MyDataset(x_test, y_test)"
   ]
  },
  {
   "cell_type": "code",
   "execution_count": 130,
   "metadata": {},
   "outputs": [],
   "source": [
    "class model(nn.Module): # 가중치 초기화 \n",
    "    def __init__(self):\n",
    "        super(model, self).__init__()\n",
    "        self.fc1 = nn.Linear(784, 300)\n",
    "        self.fc2 = nn.Linear(300, 10)\n",
    "    def forward(self, x):\n",
    "        x = F.relu(self.fc1(x))\n",
    "        x = self.fc2(x)\n",
    "        return x"
   ]
  },
  {
   "cell_type": "code",
   "execution_count": 131,
   "metadata": {},
   "outputs": [],
   "source": [
    "model2 = model()\n",
    "optimizer = optim.Adam(model2.parameters(), lr=0.01)\n",
    "criterion = nn.CrossEntropyLoss()\n",
    "\n",
    "train_loader = dataloader.DataLoader(dataset_train, batch_size=100, shuffle=True)\n",
    "test_loader = dataloader.DataLoader(dataset_test, batch_size=100, shuffle=False)"
   ]
  },
  {
   "cell_type": "code",
   "execution_count": 132,
   "metadata": {},
   "outputs": [
    {
     "data": {
      "text/plain": [
       "1"
      ]
     },
     "execution_count": 132,
     "metadata": {},
     "output_type": "execute_result"
    }
   ],
   "source": [
    "ex=torch.tensor([1])\n",
    "ex.numpy()[0]"
   ]
  },
  {
   "cell_type": "code",
   "execution_count": 133,
   "metadata": {},
   "outputs": [
    {
     "name": "stdout",
     "output_type": "stream",
     "text": [
      "=================================0=================================\n",
      "acc : 0.9719768762588501, f1 : 0.9718669652938843\n",
      "=================================test score=================================\n",
      "tensor(0.9651)\n",
      "tensor(0.9650)\n",
      "=================================1=================================\n",
      "acc : 0.973682165145874, f1 : 0.9737364053726196\n",
      "=================================test score=================================\n",
      "tensor(0.9653)\n",
      "tensor(0.9655)\n",
      "=================================2=================================\n",
      "acc : 0.9769375324249268, f1 : 0.9767911434173584\n",
      "=================================test score=================================\n",
      "tensor(0.9669)\n",
      "tensor(0.9668)\n",
      "=================================3=================================\n",
      "acc : 0.9775460958480835, f1 : 0.9777652025222778\n",
      "=================================test score=================================\n",
      "tensor(0.9646)\n",
      "tensor(0.9649)\n",
      "=================================4=================================\n",
      "acc : 0.9816775321960449, f1 : 0.9817126393318176\n",
      "=================================test score=================================\n",
      "tensor(0.9666)\n",
      "tensor(0.9667)\n",
      "=================================5=================================\n",
      "acc : 0.9826082587242126, f1 : 0.9826844334602356\n",
      "=================================test score=================================\n",
      "tensor(0.9671)\n",
      "tensor(0.9674)\n",
      "=================================6=================================\n",
      "acc : 0.9803136587142944, f1 : 0.9804566502571106\n",
      "=================================test score=================================\n",
      "tensor(0.9667)\n",
      "tensor(0.9670)\n",
      "=================================7=================================\n",
      "acc : 0.9816404581069946, f1 : 0.9817481637001038\n",
      "=================================test score=================================\n",
      "tensor(0.9673)\n",
      "tensor(0.9674)\n",
      "=================================8=================================\n",
      "acc : 0.9880476593971252, f1 : 0.9880227446556091\n",
      "=================================test score=================================\n",
      "tensor(0.9718)\n",
      "tensor(0.9718)\n",
      "=================================9=================================\n",
      "acc : 0.985954761505127, f1 : 0.9860138297080994\n",
      "=================================test score=================================\n",
      "tensor(0.9689)\n",
      "tensor(0.9690)\n",
      "=================================10=================================\n",
      "acc : 0.9884818196296692, f1 : 0.9884824752807617\n",
      "=================================test score=================================\n",
      "tensor(0.9720)\n",
      "tensor(0.9720)\n",
      "=================================11=================================\n",
      "acc : 0.983210563659668, f1 : 0.9831221699714661\n",
      "=================================test score=================================\n",
      "tensor(0.9662)\n",
      "tensor(0.9661)\n",
      "=================================12=================================\n",
      "acc : 0.9868981242179871, f1 : 0.9869707226753235\n",
      "=================================test score=================================\n",
      "tensor(0.9724)\n",
      "tensor(0.9725)\n",
      "=================================13=================================\n",
      "acc : 0.9893919229507446, f1 : 0.9891445636749268\n",
      "=================================test score=================================\n",
      "tensor(0.9727)\n",
      "tensor(0.9725)\n",
      "=================================14=================================\n",
      "acc : 0.9876661896705627, f1 : 0.9875079989433289\n",
      "=================================test score=================================\n",
      "tensor(0.9723)\n",
      "tensor(0.9721)\n"
     ]
    }
   ],
   "source": [
    "from torchmetrics.functional.classification import accuracy, f1_score\n",
    "model2.train()\n",
    "\n",
    "for epoch in range(15):\n",
    "    \n",
    "    for x,y in train_loader:\n",
    "        output = model2(x)\n",
    "        loss = criterion(output, y)\n",
    "        \n",
    "        optimizer.zero_grad()\n",
    "        loss.backward()\n",
    "        optimizer.step()\n",
    "        \n",
    "        with torch.no_grad():\n",
    "            #print(f\"loss: {loss.item()}\")\n",
    "            pass\n",
    "        \n",
    "        \n",
    "        \n",
    "\n",
    "    print(f\"================================={epoch}=================================\")\n",
    "    output = model2(x_train)\n",
    "    acc = accuracy(output, y_train, task=\"multiclass\", num_classes=10, average=\"macro\")\n",
    "    f1 = f1_score(output, y_train, task=\"multiclass\", num_classes=10, average=\"macro\")\n",
    "    print(f\"acc : {acc}, f1 : {f1}\")\n",
    "    \n",
    "    \n",
    "    output = model2(x_test)\n",
    "    print(f\"=================================test score=================================\")\n",
    "    print(accuracy(output, y_test, task=\"multiclass\", num_classes=10, average=\"macro\"))\n",
    "    print(f1_score(output, y_test, task=\"multiclass\", num_classes=10, average=\"macro\"))\n",
    "\n",
    "    if np.abs(f1-1) < 0.000001:\n",
    "        print(\"발동!\")\n",
    "        torch.save(model2,\"./model.pth\")\n",
    "        break"
   ]
  },
  {
   "cell_type": "code",
   "execution_count": 134,
   "metadata": {},
   "outputs": [
    {
     "name": "stdout",
     "output_type": "stream",
     "text": [
      "=================================test score=================================\n",
      "tensor(0.9774)\n",
      "tensor(0.9775)\n"
     ]
    }
   ],
   "source": [
    "model2=torch.load(\"./model.pth\")\n",
    "model2.eval()\n",
    "\n",
    "\n",
    "output = model2(x_test)\n",
    "print(f\"=================================test score=================================\")\n",
    "print(accuracy(output, y_test, task=\"multiclass\", num_classes=10, average=\"macro\"))\n",
    "print(f1_score(output, y_test, task=\"multiclass\", num_classes=10, average=\"macro\"))"
   ]
  },
  {
   "cell_type": "code",
   "execution_count": null,
   "metadata": {},
   "outputs": [],
   "source": []
  }
 ],
 "metadata": {
  "kernelspec": {
   "display_name": "Torch_PY38",
   "language": "python",
   "name": "python3"
  },
  "language_info": {
   "codemirror_mode": {
    "name": "ipython",
    "version": 3
   },
   "file_extension": ".py",
   "mimetype": "text/x-python",
   "name": "python",
   "nbconvert_exporter": "python",
   "pygments_lexer": "ipython3",
   "version": "3.8.18"
  }
 },
 "nbformat": 4,
 "nbformat_minor": 2
}
